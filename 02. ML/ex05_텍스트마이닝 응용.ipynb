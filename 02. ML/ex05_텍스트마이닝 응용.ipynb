{
 "cells": [
  {
   "cell_type": "markdown",
   "id": "5800c15f-9a1f-4ea3-8e24-5bb59626af8e",
   "metadata": {},
   "source": [
    "## 학습목표\n",
    "- 감성분석 모델링을 할 수 있다.\n",
    "- 토큰화/수치화 방법을 이해 할 수 있다.\n",
    "- konlpy 사용법을 이해 할 수 있다."
   ]
  },
  {
   "cell_type": "markdown",
   "id": "885aac6d-f105-45f0-bbb2-af9ef93ed41c",
   "metadata": {},
   "source": [
    "#### 감성분석\n",
    "- 사람의 감정/기분/태도 등을 분석하는 기법\n",
    "   - case 1 : 감성사전을 이용한 분석(전통적으로 사용하던 방식)\n",
    "   - case 2 : 인공지능 기술을 이용한 분석(최근 방식)"
   ]
  },
  {
   "cell_type": "markdown",
   "id": "c927527c-0fa4-4437-bd7d-fce85302609b",
   "metadata": {},
   "source": [
    "#### 데이터로딩"
   ]
  },
  {
   "cell_type": "code",
   "execution_count": 3,
   "id": "1ec24e26-ad5a-4a94-aeb7-cc1edc5cc2d9",
   "metadata": {},
   "outputs": [],
   "source": [
    "import pandas as pd\n",
    "# 훈련용, 평가용 데이터 로딩\n",
    "train = pd.read_csv(\"./data/unsmile_train_v1.0.tsv\", # 파일경로\n",
    "                    delimiter='\\t') # 구분자\n",
    "test = pd.read_csv(\"./data/unsmile_valid_v1.0.tsv\", # 파일경로\n",
    "                    delimiter='\\t') # 구분자"
   ]
  },
  {
   "cell_type": "markdown",
   "id": "b627681b-88b6-4fe4-a0ce-eb87e84eef5d",
   "metadata": {},
   "source": [
    "#### 데이터 전처리\n",
    "- 형태소 단위로 분리\n",
    "- clean 작업 : 불용어, 반복적인 단어 처리 등 -> 정규표현식 "
   ]
  },
  {
   "cell_type": "code",
   "execution_count": null,
   "id": "a145871e-a3c3-4ee9-abaf-15c29af37067",
   "metadata": {},
   "outputs": [],
   "source": [
    "# 한국어 형태소 분리 시 자주 활용하는 konlpy를 사용\n",
    "# 1. jdk, Jpye 등을 설치 -> PC상태에 따라서 안되는 경우 많음 -> colab으로 진행\n",
    "# 2. konlpy 형태소 분석기 중에 mecab이 있음 -> 리눅스 운영체제에서 사용 가능 -> colab으로 진행"
   ]
  },
  {
   "cell_type": "code",
   "execution_count": 18,
   "id": "6b9a56c3-0de1-4982-968e-53a1b0f8ba5a",
   "metadata": {},
   "outputs": [],
   "source": [
    "# 문장데이터만 분리하여 파일로 저장\n",
    "train['문장'].to_csv(\"./train_origin_text.csv\", index=False)\n",
    "test['문장'].to_csv(\"./test_origin_text.csv\", index=False)"
   ]
  },
  {
   "cell_type": "code",
   "execution_count": 20,
   "id": "ce745a10-efd7-4bb3-8493-84aa22d085c7",
   "metadata": {},
   "outputs": [],
   "source": [
    "# 'ex05_2 텍스트마이닝 응용_konlpy_사용하기' 파일에서 처리한 데이터 로딩\n",
    "import pickle"
   ]
  },
  {
   "cell_type": "code",
   "execution_count": 24,
   "id": "7df66ebb-88b0-42c3-b928-767d0eddc6d0",
   "metadata": {},
   "outputs": [],
   "source": [
    "with open(\"./data/clean_morphs_train.pkl\", 'rb') as f :\n",
    "    clean_morphs_train = pickle.load(f)\n",
    "\n",
    "with open(\"./data/clean_morphs_test.pkl\", 'rb') as f :\n",
    "    clean_morphs_test = pickle.load(f)"
   ]
  },
  {
   "cell_type": "code",
   "execution_count": 26,
   "id": "7417480a-86b4-4463-b683-4fee86b77215",
   "metadata": {},
   "outputs": [
    {
     "data": {
      "text/plain": [
       "3737"
      ]
     },
     "execution_count": 26,
     "metadata": {},
     "output_type": "execute_result"
    }
   ],
   "source": [
    "len(clean_morphs_test)"
   ]
  },
  {
   "cell_type": "code",
   "execution_count": 30,
   "id": "6dfb95e8-b798-4550-8e80-3ef982f8f776",
   "metadata": {},
   "outputs": [
    {
     "data": {
      "text/plain": [
       "15005"
      ]
     },
     "execution_count": 30,
     "metadata": {},
     "output_type": "execute_result"
    }
   ],
   "source": [
    "len(clean_morphs_train)"
   ]
  },
  {
   "cell_type": "code",
   "execution_count": 32,
   "id": "1ef148e9-3244-4e4e-b318-cf29749e9ee7",
   "metadata": {},
   "outputs": [
    {
     "data": {
      "text/plain": [
       "[['일안', '시간', '어서', '그런', '아닐까'],\n",
       " ['아동',\n",
       "  '성범죄',\n",
       "  '페도버는',\n",
       "  '기록',\n",
       "  '영원히',\n",
       "  '고통',\n",
       "  '는다',\n",
       "  '무슬림',\n",
       "  '근친',\n",
       "  '까지',\n",
       "  '떨어지',\n",
       "  '출산',\n",
       "  '위험'],\n",
       " ['루나', '솔로', '앨범', '나왔', '부터', '기운', '진짜'],\n",
       " ['어버이',\n",
       "  '연합',\n",
       "  '인가',\n",
       "  '보내',\n",
       "  '이런',\n",
       "  '뎃글',\n",
       "  '는데',\n",
       "  '이거',\n",
       "  '어버이',\n",
       "  '연합',\n",
       "  '신고',\n",
       "  '그쪽',\n",
       "  '에서',\n",
       "  '고소',\n",
       "  '가능'],\n",
       " ['여기',\n",
       "  '여자',\n",
       "  '김치',\n",
       "  '라고',\n",
       "  '먼저',\n",
       "  '불렸',\n",
       "  '여자',\n",
       "  '심하',\n",
       "  '그런다',\n",
       "  '이렇게',\n",
       "  '싸우',\n",
       "  '나쁜',\n",
       "  '이상',\n",
       "  '이하',\n",
       "  '아닌데']]"
      ]
     },
     "execution_count": 32,
     "metadata": {},
     "output_type": "execute_result"
    }
   ],
   "source": [
    "clean_morphs_train[:5]"
   ]
  },
  {
   "cell_type": "markdown",
   "id": "77697079-7a65-4ee5-be31-e3fe18a92a20",
   "metadata": {},
   "source": [
    "#### 토큰화 및 수치화(특성추출)\n",
    "- 토큰화 : 일정 단위로 텍스트를 분리하는 작업\n",
    "   - 글자(char) : apple -> a / p / p / l / e\n",
    "   - 단어(word) : 보통 띄어쓰기 기준으로 분리 -> 보통 / 띄어쓰기 / 기준으로 / 분리\n",
    "   - 형태소 : 동사, 명사, 형용사 등 형태소 기준으로 분리\n",
    "   - n-gram(유니,바이,트라이 등) : 1/2/3개 씩 단어를 묶어서 토큰화하는 방법\n",
    "        - 오늘 점신은 맛있는 카레 -> 유니그램 -> 오늘 / 점심은 / 맛있는 / 카레\n",
    "        - 오늘 점신은 맛있는 카레 -> 바이그램 -> 오늘 점심은 / 점심은 맛있는 / 맛있는 카레\n",
    "        - 오늘 점신은 맛있는 카레 -> 트라이그램 -> 오늘 점신은 맛있는 / 점심은 맛있는 카레\n",
    "- 수치화(특성추출) : 의미있는 정보를 담고 있는 숫자형태로 변환하는 방법, 데이터를 정형화 하는 효과가 있다.\n",
    "   - 빈도기반의 레이블인코딩\n",
    "   - 원핫인코딩과 유사한 BOW, Tf-idf\n",
    "   - Word embedding : 딥러닝 학습을 이용해서 수치화 하는 기법"
   ]
  },
  {
   "cell_type": "markdown",
   "id": "7374d80a-a0a3-4280-a34f-7f664f872598",
   "metadata": {},
   "source": [
    "##### BOW(Bag Of word)\n",
    "- 문장에서 등장하는 단어의 빈도를 측정해 수치화하는 방법\n",
    "- 단어사전 구축 -> 단어사전을 기반으로 문장내의 단어빈도를 측정\n",
    "- 장점 : 단순한 알고리즘이라 이해하기가 편하다\n",
    "- 단점 : 말뭉치에 사용되는 단어가 많으면 부피가 비례해서 커진다 / 문장에서 단어의 순서를 고려x\n",
    "  (문맥을 파악하는 분석에는 부적합)"
   ]
  },
  {
   "cell_type": "code",
   "execution_count": 45,
   "id": "d2647cf2-7564-4fb7-8dac-247268a13c7b",
   "metadata": {},
   "outputs": [],
   "source": [
    "from sklearn.feature_extraction.text import CountVectorizer"
   ]
  },
  {
   "cell_type": "code",
   "execution_count": 48,
   "id": "b0ba9f13-8ceb-4ef7-9353-a746098f345c",
   "metadata": {},
   "outputs": [
    {
     "name": "stdout",
     "output_type": "stream",
     "text": [
      "['일안', '시간', '어서', '그런', '아닐까']\n",
      "['아동', '성범죄', '페도버는', '기록', '영원히', '고통', '는다', '무슬림', '근친', '까지', '떨어지', '출산', '위험']\n",
      "['루나', '솔로', '앨범', '나왔', '부터', '기운', '진짜']\n"
     ]
    }
   ],
   "source": [
    "sample_text = clean_morphs_train[:3]\n",
    "sample_cv = CountVectorizer() # BOW를 해주는 객체 생성\n",
    "print(sample_text[0])\n",
    "print(sample_text[1])\n",
    "print(sample_text[2])"
   ]
  },
  {
   "cell_type": "code",
   "execution_count": 52,
   "id": "9d02f2b0-2dae-406d-b5be-63fea9d5b1fb",
   "metadata": {},
   "outputs": [
    {
     "data": {
      "text/html": [
       "<style>#sk-container-id-1 {color: black;background-color: white;}#sk-container-id-1 pre{padding: 0;}#sk-container-id-1 div.sk-toggleable {background-color: white;}#sk-container-id-1 label.sk-toggleable__label {cursor: pointer;display: block;width: 100%;margin-bottom: 0;padding: 0.3em;box-sizing: border-box;text-align: center;}#sk-container-id-1 label.sk-toggleable__label-arrow:before {content: \"▸\";float: left;margin-right: 0.25em;color: #696969;}#sk-container-id-1 label.sk-toggleable__label-arrow:hover:before {color: black;}#sk-container-id-1 div.sk-estimator:hover label.sk-toggleable__label-arrow:before {color: black;}#sk-container-id-1 div.sk-toggleable__content {max-height: 0;max-width: 0;overflow: hidden;text-align: left;background-color: #f0f8ff;}#sk-container-id-1 div.sk-toggleable__content pre {margin: 0.2em;color: black;border-radius: 0.25em;background-color: #f0f8ff;}#sk-container-id-1 input.sk-toggleable__control:checked~div.sk-toggleable__content {max-height: 200px;max-width: 100%;overflow: auto;}#sk-container-id-1 input.sk-toggleable__control:checked~label.sk-toggleable__label-arrow:before {content: \"▾\";}#sk-container-id-1 div.sk-estimator input.sk-toggleable__control:checked~label.sk-toggleable__label {background-color: #d4ebff;}#sk-container-id-1 div.sk-label input.sk-toggleable__control:checked~label.sk-toggleable__label {background-color: #d4ebff;}#sk-container-id-1 input.sk-hidden--visually {border: 0;clip: rect(1px 1px 1px 1px);clip: rect(1px, 1px, 1px, 1px);height: 1px;margin: -1px;overflow: hidden;padding: 0;position: absolute;width: 1px;}#sk-container-id-1 div.sk-estimator {font-family: monospace;background-color: #f0f8ff;border: 1px dotted black;border-radius: 0.25em;box-sizing: border-box;margin-bottom: 0.5em;}#sk-container-id-1 div.sk-estimator:hover {background-color: #d4ebff;}#sk-container-id-1 div.sk-parallel-item::after {content: \"\";width: 100%;border-bottom: 1px solid gray;flex-grow: 1;}#sk-container-id-1 div.sk-label:hover label.sk-toggleable__label {background-color: #d4ebff;}#sk-container-id-1 div.sk-serial::before {content: \"\";position: absolute;border-left: 1px solid gray;box-sizing: border-box;top: 0;bottom: 0;left: 50%;z-index: 0;}#sk-container-id-1 div.sk-serial {display: flex;flex-direction: column;align-items: center;background-color: white;padding-right: 0.2em;padding-left: 0.2em;position: relative;}#sk-container-id-1 div.sk-item {position: relative;z-index: 1;}#sk-container-id-1 div.sk-parallel {display: flex;align-items: stretch;justify-content: center;background-color: white;position: relative;}#sk-container-id-1 div.sk-item::before, #sk-container-id-1 div.sk-parallel-item::before {content: \"\";position: absolute;border-left: 1px solid gray;box-sizing: border-box;top: 0;bottom: 0;left: 50%;z-index: -1;}#sk-container-id-1 div.sk-parallel-item {display: flex;flex-direction: column;z-index: 1;position: relative;background-color: white;}#sk-container-id-1 div.sk-parallel-item:first-child::after {align-self: flex-end;width: 50%;}#sk-container-id-1 div.sk-parallel-item:last-child::after {align-self: flex-start;width: 50%;}#sk-container-id-1 div.sk-parallel-item:only-child::after {width: 0;}#sk-container-id-1 div.sk-dashed-wrapped {border: 1px dashed gray;margin: 0 0.4em 0.5em 0.4em;box-sizing: border-box;padding-bottom: 0.4em;background-color: white;}#sk-container-id-1 div.sk-label label {font-family: monospace;font-weight: bold;display: inline-block;line-height: 1.2em;}#sk-container-id-1 div.sk-label-container {text-align: center;}#sk-container-id-1 div.sk-container {/* jupyter's `normalize.less` sets `[hidden] { display: none; }` but bootstrap.min.css set `[hidden] { display: none !important; }` so we also need the `!important` here to be able to override the default hidden behavior on the sphinx rendered scikit-learn.org. See: https://github.com/scikit-learn/scikit-learn/issues/21755 */display: inline-block !important;position: relative;}#sk-container-id-1 div.sk-text-repr-fallback {display: none;}</style><div id=\"sk-container-id-1\" class=\"sk-top-container\"><div class=\"sk-text-repr-fallback\"><pre>CountVectorizer()</pre><b>In a Jupyter environment, please rerun this cell to show the HTML representation or trust the notebook. <br />On GitHub, the HTML representation is unable to render, please try loading this page with nbviewer.org.</b></div><div class=\"sk-container\" hidden><div class=\"sk-item\"><div class=\"sk-estimator sk-toggleable\"><input class=\"sk-toggleable__control sk-hidden--visually\" id=\"sk-estimator-id-1\" type=\"checkbox\" checked><label for=\"sk-estimator-id-1\" class=\"sk-toggleable__label sk-toggleable__label-arrow\">CountVectorizer</label><div class=\"sk-toggleable__content\"><pre>CountVectorizer()</pre></div></div></div></div></div>"
      ],
      "text/plain": [
       "CountVectorizer()"
      ]
     },
     "execution_count": 52,
     "metadata": {},
     "output_type": "execute_result"
    }
   ],
   "source": [
    "# step 1 : 토큰화 및 단어사전 구축\n",
    "# CountVectorizer 에 토큰화기능이 내장되어있어 문장을 하나로 묶어주는 전처리 작업\n",
    "sample_text2 = [ \" \".join(s) for s in sample_text]\n",
    "sample_cv.fit(sample_text2)"
   ]
  },
  {
   "cell_type": "code",
   "execution_count": 54,
   "id": "ff65a1ad-6471-499e-a4bb-2c4a69a0d7b8",
   "metadata": {},
   "outputs": [
    {
     "data": {
      "text/plain": [
       "{'일안': 21,\n",
       " '시간': 14,\n",
       " '어서': 18,\n",
       " '그런': 1,\n",
       " '아닐까': 15,\n",
       " '아동': 16,\n",
       " '성범죄': 12,\n",
       " '페도버는': 24,\n",
       " '기록': 3,\n",
       " '영원히': 19,\n",
       " '고통': 0,\n",
       " '는다': 7,\n",
       " '무슬림': 10,\n",
       " '근친': 2,\n",
       " '까지': 5,\n",
       " '떨어지': 8,\n",
       " '출산': 23,\n",
       " '위험': 20,\n",
       " '루나': 9,\n",
       " '솔로': 13,\n",
       " '앨범': 17,\n",
       " '나왔': 6,\n",
       " '부터': 11,\n",
       " '기운': 4,\n",
       " '진짜': 22}"
      ]
     },
     "execution_count": 54,
     "metadata": {},
     "output_type": "execute_result"
    }
   ],
   "source": [
    "# 구축된 단어사전 확인 -> 25개 단어등장\n",
    "sample_cv.vocabulary_"
   ]
  },
  {
   "cell_type": "code",
   "execution_count": 56,
   "id": "509307b9-f020-4977-9972-4d75d83be019",
   "metadata": {},
   "outputs": [
    {
     "data": {
      "text/plain": [
       "<3x25 sparse matrix of type '<class 'numpy.int64'>'\n",
       "\twith 25 stored elements in Compressed Sparse Row format>"
      ]
     },
     "execution_count": 56,
     "metadata": {},
     "output_type": "execute_result"
    }
   ],
   "source": [
    "# step 2 : 단어사전을 기반으로 문장내의 단어빈도를 측정\n",
    "result = sample_cv.transform(sample_text2)\n",
    "result"
   ]
  },
  {
   "cell_type": "code",
   "execution_count": 58,
   "id": "9982b9ee-44f0-4697-8a43-3d1c287d2e4b",
   "metadata": {},
   "outputs": [
    {
     "data": {
      "text/plain": [
       "array([[0, 1, 0, 0, 0, 0, 0, 0, 0, 0, 0, 0, 0, 0, 1, 1, 0, 0, 1, 0, 0, 1,\n",
       "        0, 0, 0],\n",
       "       [1, 0, 1, 1, 0, 1, 0, 1, 1, 0, 1, 0, 1, 0, 0, 0, 1, 0, 0, 1, 1, 0,\n",
       "        0, 1, 1],\n",
       "       [0, 0, 0, 0, 1, 0, 1, 0, 0, 1, 0, 1, 0, 1, 0, 0, 0, 1, 0, 0, 0, 0,\n",
       "        1, 0, 0]], dtype=int64)"
      ]
     },
     "execution_count": 58,
     "metadata": {},
     "output_type": "execute_result"
    }
   ],
   "source": [
    "# 만약 데이터를 직접 보고 싶다면 활용\n",
    "result.toarray()"
   ]
  },
  {
   "cell_type": "code",
   "execution_count": 63,
   "id": "1cec9e84-998b-4850-bacb-7b959e1998ac",
   "metadata": {},
   "outputs": [
    {
     "data": {
      "text/html": [
       "<div>\n",
       "<style scoped>\n",
       "    .dataframe tbody tr th:only-of-type {\n",
       "        vertical-align: middle;\n",
       "    }\n",
       "\n",
       "    .dataframe tbody tr th {\n",
       "        vertical-align: top;\n",
       "    }\n",
       "\n",
       "    .dataframe thead th {\n",
       "        text-align: right;\n",
       "    }\n",
       "</style>\n",
       "<table border=\"1\" class=\"dataframe\">\n",
       "  <thead>\n",
       "    <tr style=\"text-align: right;\">\n",
       "      <th></th>\n",
       "      <th>21</th>\n",
       "      <th>14</th>\n",
       "      <th>18</th>\n",
       "      <th>1</th>\n",
       "      <th>15</th>\n",
       "      <th>16</th>\n",
       "      <th>12</th>\n",
       "      <th>24</th>\n",
       "      <th>3</th>\n",
       "      <th>19</th>\n",
       "      <th>...</th>\n",
       "      <th>8</th>\n",
       "      <th>23</th>\n",
       "      <th>20</th>\n",
       "      <th>9</th>\n",
       "      <th>13</th>\n",
       "      <th>17</th>\n",
       "      <th>6</th>\n",
       "      <th>11</th>\n",
       "      <th>4</th>\n",
       "      <th>22</th>\n",
       "    </tr>\n",
       "  </thead>\n",
       "  <tbody>\n",
       "    <tr>\n",
       "      <th>0</th>\n",
       "      <td>일안</td>\n",
       "      <td>시간</td>\n",
       "      <td>어서</td>\n",
       "      <td>그런</td>\n",
       "      <td>아닐까</td>\n",
       "      <td>아동</td>\n",
       "      <td>성범죄</td>\n",
       "      <td>페도버는</td>\n",
       "      <td>기록</td>\n",
       "      <td>영원히</td>\n",
       "      <td>...</td>\n",
       "      <td>떨어지</td>\n",
       "      <td>출산</td>\n",
       "      <td>위험</td>\n",
       "      <td>루나</td>\n",
       "      <td>솔로</td>\n",
       "      <td>앨범</td>\n",
       "      <td>나왔</td>\n",
       "      <td>부터</td>\n",
       "      <td>기운</td>\n",
       "      <td>진짜</td>\n",
       "    </tr>\n",
       "  </tbody>\n",
       "</table>\n",
       "<p>1 rows × 25 columns</p>\n",
       "</div>"
      ],
      "text/plain": [
       "   21  14  18  1    15  16   12    24  3    19  ...   8   23  20  9   13  17  \\\n",
       "0  일안  시간  어서  그런  아닐까  아동  성범죄  페도버는  기록  영원히  ...  떨어지  출산  위험  루나  솔로  앨범   \n",
       "\n",
       "   6   11  4   22  \n",
       "0  나왔  부터  기운  진짜  \n",
       "\n",
       "[1 rows x 25 columns]"
      ]
     },
     "execution_count": 63,
     "metadata": {},
     "output_type": "execute_result"
    }
   ],
   "source": [
    "# 단어사전을 데이터 프레임으로 변환\n",
    "result_df = pd.DataFrame([sample_cv.vocabulary_.keys()],\n",
    "                         columns = sample_cv.vocabulary_.values())\n",
    "result_df"
   ]
  },
  {
   "cell_type": "code",
   "execution_count": 70,
   "id": "353f1a62-eeed-40d4-b011-5a5e289ea4f3",
   "metadata": {},
   "outputs": [
    {
     "data": {
      "text/html": [
       "<div>\n",
       "<style scoped>\n",
       "    .dataframe tbody tr th:only-of-type {\n",
       "        vertical-align: middle;\n",
       "    }\n",
       "\n",
       "    .dataframe tbody tr th {\n",
       "        vertical-align: top;\n",
       "    }\n",
       "\n",
       "    .dataframe thead th {\n",
       "        text-align: right;\n",
       "    }\n",
       "</style>\n",
       "<table border=\"1\" class=\"dataframe\">\n",
       "  <thead>\n",
       "    <tr style=\"text-align: right;\">\n",
       "      <th></th>\n",
       "      <th>0</th>\n",
       "      <th>1</th>\n",
       "      <th>2</th>\n",
       "      <th>3</th>\n",
       "      <th>4</th>\n",
       "      <th>5</th>\n",
       "      <th>6</th>\n",
       "      <th>7</th>\n",
       "      <th>8</th>\n",
       "      <th>9</th>\n",
       "      <th>...</th>\n",
       "      <th>15</th>\n",
       "      <th>16</th>\n",
       "      <th>17</th>\n",
       "      <th>18</th>\n",
       "      <th>19</th>\n",
       "      <th>20</th>\n",
       "      <th>21</th>\n",
       "      <th>22</th>\n",
       "      <th>23</th>\n",
       "      <th>24</th>\n",
       "    </tr>\n",
       "  </thead>\n",
       "  <tbody>\n",
       "    <tr>\n",
       "      <th>0</th>\n",
       "      <td>고통</td>\n",
       "      <td>그런</td>\n",
       "      <td>근친</td>\n",
       "      <td>기록</td>\n",
       "      <td>기운</td>\n",
       "      <td>까지</td>\n",
       "      <td>나왔</td>\n",
       "      <td>는다</td>\n",
       "      <td>떨어지</td>\n",
       "      <td>루나</td>\n",
       "      <td>...</td>\n",
       "      <td>아닐까</td>\n",
       "      <td>아동</td>\n",
       "      <td>앨범</td>\n",
       "      <td>어서</td>\n",
       "      <td>영원히</td>\n",
       "      <td>위험</td>\n",
       "      <td>일안</td>\n",
       "      <td>진짜</td>\n",
       "      <td>출산</td>\n",
       "      <td>페도버는</td>\n",
       "    </tr>\n",
       "  </tbody>\n",
       "</table>\n",
       "<p>1 rows × 25 columns</p>\n",
       "</div>"
      ],
      "text/plain": [
       "   0   1   2   3   4   5   6   7    8   9   ...   15  16  17  18   19  20  21  \\\n",
       "0  고통  그런  근친  기록  기운  까지  나왔  는다  떨어지  루나  ...  아닐까  아동  앨범  어서  영원히  위험  일안   \n",
       "\n",
       "   22  23    24  \n",
       "0  진짜  출산  페도버는  \n",
       "\n",
       "[1 rows x 25 columns]"
      ]
     },
     "execution_count": 70,
     "metadata": {},
     "output_type": "execute_result"
    }
   ],
   "source": [
    "result_df = result_df.sort_index(axis=1)\n",
    "result_df"
   ]
  },
  {
   "cell_type": "code",
   "execution_count": 72,
   "id": "c76545f9-eb44-4e77-94a7-be6b608b0171",
   "metadata": {},
   "outputs": [
    {
     "data": {
      "text/html": [
       "<div>\n",
       "<style scoped>\n",
       "    .dataframe tbody tr th:only-of-type {\n",
       "        vertical-align: middle;\n",
       "    }\n",
       "\n",
       "    .dataframe tbody tr th {\n",
       "        vertical-align: top;\n",
       "    }\n",
       "\n",
       "    .dataframe thead th {\n",
       "        text-align: right;\n",
       "    }\n",
       "</style>\n",
       "<table border=\"1\" class=\"dataframe\">\n",
       "  <thead>\n",
       "    <tr style=\"text-align: right;\">\n",
       "      <th></th>\n",
       "      <th>0</th>\n",
       "      <th>1</th>\n",
       "      <th>2</th>\n",
       "      <th>3</th>\n",
       "      <th>4</th>\n",
       "      <th>5</th>\n",
       "      <th>6</th>\n",
       "      <th>7</th>\n",
       "      <th>8</th>\n",
       "      <th>9</th>\n",
       "      <th>...</th>\n",
       "      <th>15</th>\n",
       "      <th>16</th>\n",
       "      <th>17</th>\n",
       "      <th>18</th>\n",
       "      <th>19</th>\n",
       "      <th>20</th>\n",
       "      <th>21</th>\n",
       "      <th>22</th>\n",
       "      <th>23</th>\n",
       "      <th>24</th>\n",
       "    </tr>\n",
       "  </thead>\n",
       "  <tbody>\n",
       "    <tr>\n",
       "      <th>0</th>\n",
       "      <td>고통</td>\n",
       "      <td>그런</td>\n",
       "      <td>근친</td>\n",
       "      <td>기록</td>\n",
       "      <td>기운</td>\n",
       "      <td>까지</td>\n",
       "      <td>나왔</td>\n",
       "      <td>는다</td>\n",
       "      <td>떨어지</td>\n",
       "      <td>루나</td>\n",
       "      <td>...</td>\n",
       "      <td>아닐까</td>\n",
       "      <td>아동</td>\n",
       "      <td>앨범</td>\n",
       "      <td>어서</td>\n",
       "      <td>영원히</td>\n",
       "      <td>위험</td>\n",
       "      <td>일안</td>\n",
       "      <td>진짜</td>\n",
       "      <td>출산</td>\n",
       "      <td>페도버는</td>\n",
       "    </tr>\n",
       "    <tr>\n",
       "      <th>0</th>\n",
       "      <td>0</td>\n",
       "      <td>1</td>\n",
       "      <td>0</td>\n",
       "      <td>0</td>\n",
       "      <td>0</td>\n",
       "      <td>0</td>\n",
       "      <td>0</td>\n",
       "      <td>0</td>\n",
       "      <td>0</td>\n",
       "      <td>0</td>\n",
       "      <td>...</td>\n",
       "      <td>1</td>\n",
       "      <td>0</td>\n",
       "      <td>0</td>\n",
       "      <td>1</td>\n",
       "      <td>0</td>\n",
       "      <td>0</td>\n",
       "      <td>1</td>\n",
       "      <td>0</td>\n",
       "      <td>0</td>\n",
       "      <td>0</td>\n",
       "    </tr>\n",
       "    <tr>\n",
       "      <th>1</th>\n",
       "      <td>1</td>\n",
       "      <td>0</td>\n",
       "      <td>1</td>\n",
       "      <td>1</td>\n",
       "      <td>0</td>\n",
       "      <td>1</td>\n",
       "      <td>0</td>\n",
       "      <td>1</td>\n",
       "      <td>1</td>\n",
       "      <td>0</td>\n",
       "      <td>...</td>\n",
       "      <td>0</td>\n",
       "      <td>1</td>\n",
       "      <td>0</td>\n",
       "      <td>0</td>\n",
       "      <td>1</td>\n",
       "      <td>1</td>\n",
       "      <td>0</td>\n",
       "      <td>0</td>\n",
       "      <td>1</td>\n",
       "      <td>1</td>\n",
       "    </tr>\n",
       "    <tr>\n",
       "      <th>2</th>\n",
       "      <td>0</td>\n",
       "      <td>0</td>\n",
       "      <td>0</td>\n",
       "      <td>0</td>\n",
       "      <td>1</td>\n",
       "      <td>0</td>\n",
       "      <td>1</td>\n",
       "      <td>0</td>\n",
       "      <td>0</td>\n",
       "      <td>1</td>\n",
       "      <td>...</td>\n",
       "      <td>0</td>\n",
       "      <td>0</td>\n",
       "      <td>1</td>\n",
       "      <td>0</td>\n",
       "      <td>0</td>\n",
       "      <td>0</td>\n",
       "      <td>0</td>\n",
       "      <td>1</td>\n",
       "      <td>0</td>\n",
       "      <td>0</td>\n",
       "    </tr>\n",
       "  </tbody>\n",
       "</table>\n",
       "<p>4 rows × 25 columns</p>\n",
       "</div>"
      ],
      "text/plain": [
       "   0   1   2   3   4   5   6   7    8   9   ...   15  16  17  18   19  20  21  \\\n",
       "0  고통  그런  근친  기록  기운  까지  나왔  는다  떨어지  루나  ...  아닐까  아동  앨범  어서  영원히  위험  일안   \n",
       "0   0   1   0   0   0   0   0   0    0   0  ...    1   0   0   1    0   0   1   \n",
       "1   1   0   1   1   0   1   0   1    1   0  ...    0   1   0   0    1   1   0   \n",
       "2   0   0   0   0   1   0   1   0    0   1  ...    0   0   1   0    0   0   0   \n",
       "\n",
       "   22  23    24  \n",
       "0  진짜  출산  페도버는  \n",
       "0   0   0     0  \n",
       "1   0   1     1  \n",
       "2   1   0     0  \n",
       "\n",
       "[4 rows x 25 columns]"
      ]
     },
     "execution_count": 72,
     "metadata": {},
     "output_type": "execute_result"
    }
   ],
   "source": [
    "pd.concat([result_df, pd.DataFrame(result.toarray())])"
   ]
  },
  {
   "cell_type": "code",
   "execution_count": null,
   "id": "1925f5b5-1bfd-4c18-a6c0-783a249935ea",
   "metadata": {},
   "outputs": [],
   "source": []
  },
  {
   "cell_type": "code",
   "execution_count": null,
   "id": "2421068e-a453-42ba-91ca-410ff848908a",
   "metadata": {},
   "outputs": [],
   "source": []
  },
  {
   "cell_type": "code",
   "execution_count": null,
   "id": "8b32dbc3-f1e8-4a13-8d49-24ef9094ee91",
   "metadata": {},
   "outputs": [],
   "source": []
  },
  {
   "cell_type": "code",
   "execution_count": null,
   "id": "27be0770-8ca2-48b6-9964-18a61b78943b",
   "metadata": {},
   "outputs": [],
   "source": []
  },
  {
   "cell_type": "code",
   "execution_count": null,
   "id": "e7a61f2c-2359-4dc4-9090-db50432fb817",
   "metadata": {},
   "outputs": [],
   "source": []
  },
  {
   "cell_type": "code",
   "execution_count": null,
   "id": "ede954c8-6751-4343-966f-212d9e4be27a",
   "metadata": {},
   "outputs": [],
   "source": []
  },
  {
   "cell_type": "code",
   "execution_count": null,
   "id": "acd9b58f-bb68-4188-87e6-7fbe5e2ca3e5",
   "metadata": {},
   "outputs": [],
   "source": []
  },
  {
   "cell_type": "code",
   "execution_count": null,
   "id": "f5e6c2b7-d071-4c6e-9155-8cc9461f4f5d",
   "metadata": {},
   "outputs": [],
   "source": []
  },
  {
   "cell_type": "code",
   "execution_count": null,
   "id": "039acebe-8bc1-4987-9c56-6c56564028de",
   "metadata": {},
   "outputs": [],
   "source": []
  },
  {
   "cell_type": "code",
   "execution_count": null,
   "id": "70b8ae65-fa91-4e79-9654-dcb3d60f6cd5",
   "metadata": {},
   "outputs": [],
   "source": []
  },
  {
   "cell_type": "code",
   "execution_count": null,
   "id": "cb3e42b1-0550-4832-8c84-74d2099e931c",
   "metadata": {},
   "outputs": [],
   "source": []
  },
  {
   "cell_type": "code",
   "execution_count": null,
   "id": "d35c0aed-8779-40f6-a2b8-3ef24c7304b3",
   "metadata": {},
   "outputs": [],
   "source": []
  },
  {
   "cell_type": "code",
   "execution_count": null,
   "id": "2f08292c-dc02-45e0-9b14-a2ad72800fa7",
   "metadata": {},
   "outputs": [],
   "source": []
  },
  {
   "cell_type": "code",
   "execution_count": null,
   "id": "153e4edd-a690-447f-8602-28020a0755a0",
   "metadata": {},
   "outputs": [],
   "source": []
  },
  {
   "cell_type": "code",
   "execution_count": null,
   "id": "3df17ce9-2b1d-454a-a3f1-ea5d5bcf3005",
   "metadata": {},
   "outputs": [],
   "source": []
  },
  {
   "cell_type": "code",
   "execution_count": null,
   "id": "c73af948-0fd1-489c-b1b1-54bf338c2ae5",
   "metadata": {},
   "outputs": [],
   "source": []
  },
  {
   "cell_type": "code",
   "execution_count": null,
   "id": "cf501e3e-90ef-4432-b6a1-d4be9b183edf",
   "metadata": {},
   "outputs": [],
   "source": []
  },
  {
   "cell_type": "code",
   "execution_count": null,
   "id": "ee06d564-a7d3-43ac-a782-c52b520b7d06",
   "metadata": {},
   "outputs": [],
   "source": []
  },
  {
   "cell_type": "code",
   "execution_count": null,
   "id": "37e62733-7074-4732-9304-18438201fb76",
   "metadata": {},
   "outputs": [],
   "source": []
  },
  {
   "cell_type": "code",
   "execution_count": null,
   "id": "2f99d942-9084-4ce2-b0bb-b7679577648c",
   "metadata": {},
   "outputs": [],
   "source": []
  },
  {
   "cell_type": "code",
   "execution_count": null,
   "id": "dada3f4d-c22e-4ba6-9095-f78e3433e2e3",
   "metadata": {},
   "outputs": [],
   "source": []
  },
  {
   "cell_type": "code",
   "execution_count": null,
   "id": "6a6b6656-92cd-4db6-9681-de4391e98345",
   "metadata": {},
   "outputs": [],
   "source": []
  },
  {
   "cell_type": "code",
   "execution_count": null,
   "id": "f75f98f6-f22a-4439-bfa0-bea0aed82504",
   "metadata": {},
   "outputs": [],
   "source": []
  }
 ],
 "metadata": {
  "kernelspec": {
   "display_name": "Python 3 (ipykernel)",
   "language": "python",
   "name": "python3"
  },
  "language_info": {
   "codemirror_mode": {
    "name": "ipython",
    "version": 3
   },
   "file_extension": ".py",
   "mimetype": "text/x-python",
   "name": "python",
   "nbconvert_exporter": "python",
   "pygments_lexer": "ipython3",
   "version": "3.11.7"
  }
 },
 "nbformat": 4,
 "nbformat_minor": 5
}
